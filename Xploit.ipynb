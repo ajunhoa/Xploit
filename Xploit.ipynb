{
 "cells": [
  {
   "cell_type": "code",
   "execution_count": null,
   "metadata": {},
   "outputs": [],
   "source": [
    "import pyautogui\n",
    "pyautogui.FAILSAFE= True\n",
    "screen_width, screen_height = pyautogui.size()\n",
    "current_x, current_y = pyautogui.position()\n",
    "\n",
    "while True:\n",
    "    pyautogui.moveTo(current_x+10, current_y+10, duration=0.25)\n",
    "    current_x, current_y = pyautogui.position()\n",
    "    pyautogui.moveTo(current_x-10, current_y-10, duration=0.25)\n",
    "    current_x, current_y = pyautogui.position()"
   ]
  },
  {
   "cell_type": "markdown",
   "metadata": {},
   "source": [
    "### Copyright © 2023 | Ang Jun Hoa | All Rights Reserved"
   ]
  }
 ],
 "metadata": {
  "kernelspec": {
   "display_name": "Python 3.7.0 ('test')",
   "language": "python",
   "name": "python3"
  },
  "language_info": {
   "codemirror_mode": {
    "name": "ipython",
    "version": 3
   },
   "file_extension": ".py",
   "mimetype": "text/x-python",
   "name": "python",
   "nbconvert_exporter": "python",
   "pygments_lexer": "ipython3",
   "version": "3.7.0"
  },
  "orig_nbformat": 4,
  "vscode": {
   "interpreter": {
    "hash": "87e5594ea68e7bb1e466bc04f1091463aadec54041604739e1198ccf06549a0a"
   }
  }
 },
 "nbformat": 4,
 "nbformat_minor": 2
}
